{
 "cells": [
  {
   "cell_type": "code",
   "execution_count": 51,
   "metadata": {},
   "outputs": [
    {
     "data": {
      "application/vnd.jupyter.widget-view+json": {
       "model_id": "4c5ea709e5b345c6a0cdbb8a8d923627",
       "version_major": 2,
       "version_minor": 0
      },
      "text/plain": [
       "HBox(children=(IntProgress(value=1, bar_style='info', max=1), HTML(value='')))"
      ]
     },
     "metadata": {},
     "output_type": "display_data"
    },
    {
     "name": "stderr",
     "output_type": "stream",
     "text": [
      "/home/rinnely/anaconda3/lib/python3.7/site-packages/tqdm/std.py:648: FutureWarning: The Panel class is removed from pandas. Accessing it from the top-level namespace will also be removed in the next version\n",
      "  from pandas import Panel\n"
     ]
    }
   ],
   "source": [
    "import pandas as pd\n",
    "import re\n",
    "from tqdm import tqdm_notebook as tqdm\n",
    "tqdm().pandas()\n",
    "import cleandata as cd"
   ]
  },
  {
   "cell_type": "code",
   "execution_count": 4,
   "metadata": {},
   "outputs": [],
   "source": [
    "test_df = pd.read_csv('clean_classified_aborto.csv')"
   ]
  },
  {
   "cell_type": "code",
   "execution_count": 57,
   "metadata": {},
   "outputs": [],
   "source": [
    "train_df = pd.read_csv('train_NH.csv')"
   ]
  },
  {
   "cell_type": "code",
   "execution_count": 6,
   "metadata": {},
   "outputs": [
    {
     "data": {
      "text/html": [
       "<div>\n",
       "<style scoped>\n",
       "    .dataframe tbody tr th:only-of-type {\n",
       "        vertical-align: middle;\n",
       "    }\n",
       "\n",
       "    .dataframe tbody tr th {\n",
       "        vertical-align: top;\n",
       "    }\n",
       "\n",
       "    .dataframe thead th {\n",
       "        text-align: right;\n",
       "    }\n",
       "</style>\n",
       "<table border=\"1\" class=\"dataframe\">\n",
       "  <thead>\n",
       "    <tr style=\"text-align: right;\">\n",
       "      <th></th>\n",
       "      <th>id</th>\n",
       "      <th>Tweet</th>\n",
       "      <th>Stance</th>\n",
       "    </tr>\n",
       "  </thead>\n",
       "  <tbody>\n",
       "    <tr>\n",
       "      <td>0</td>\n",
       "      <td>1224118352148385793</td>\n",
       "      <td>Hace 15 años, la USER genera lazos a través de...</td>\n",
       "      <td>0</td>\n",
       "    </tr>\n",
       "    <tr>\n",
       "      <td>1</td>\n",
       "      <td>1224118330950344706</td>\n",
       "      <td>En 2019 el estado mexicano de Oaxaca y el aust...</td>\n",
       "      <td>0</td>\n",
       "    </tr>\n",
       "    <tr>\n",
       "      <td>2</td>\n",
       "      <td>1224114750428274690</td>\n",
       "      <td>También en #Jujuy El proyecto está en las call...</td>\n",
       "      <td>0</td>\n",
       "    </tr>\n",
       "    <tr>\n",
       "      <td>3</td>\n",
       "      <td>1224110020062740482</td>\n",
       "      <td>El 19 de Febrero volvemos a las calles, y en C...</td>\n",
       "      <td>0</td>\n",
       "    </tr>\n",
       "    <tr>\n",
       "      <td>4</td>\n",
       "      <td>1224106619061055488</td>\n",
       "      <td>Esto sí es una \"obra\" pero no artística. Esto ...</td>\n",
       "      <td>1</td>\n",
       "    </tr>\n",
       "  </tbody>\n",
       "</table>\n",
       "</div>"
      ],
      "text/plain": [
       "                    id                                              Tweet  \\\n",
       "0  1224118352148385793  Hace 15 años, la USER genera lazos a través de...   \n",
       "1  1224118330950344706  En 2019 el estado mexicano de Oaxaca y el aust...   \n",
       "2  1224114750428274690  También en #Jujuy El proyecto está en las call...   \n",
       "3  1224110020062740482  El 19 de Febrero volvemos a las calles, y en C...   \n",
       "4  1224106619061055488  Esto sí es una \"obra\" pero no artística. Esto ...   \n",
       "\n",
       "   Stance  \n",
       "0       0  \n",
       "1       0  \n",
       "2       0  \n",
       "3       0  \n",
       "4       1  "
      ]
     },
     "execution_count": 6,
     "metadata": {},
     "output_type": "execute_result"
    }
   ],
   "source": [
    "train_df.head()"
   ]
  },
  {
   "cell_type": "code",
   "execution_count": 9,
   "metadata": {},
   "outputs": [
    {
     "data": {
      "text/plain": [
       "array(['N', 'F', 'C'], dtype=object)"
      ]
     },
     "execution_count": 9,
     "metadata": {},
     "output_type": "execute_result"
    }
   ],
   "source": [
    "test_df.Stance.unique()"
   ]
  },
  {
   "cell_type": "code",
   "execution_count": 11,
   "metadata": {},
   "outputs": [
    {
     "data": {
      "text/html": [
       "<div>\n",
       "<style scoped>\n",
       "    .dataframe tbody tr th:only-of-type {\n",
       "        vertical-align: middle;\n",
       "    }\n",
       "\n",
       "    .dataframe tbody tr th {\n",
       "        vertical-align: top;\n",
       "    }\n",
       "\n",
       "    .dataframe thead th {\n",
       "        text-align: right;\n",
       "    }\n",
       "</style>\n",
       "<table border=\"1\" class=\"dataframe\">\n",
       "  <thead>\n",
       "    <tr style=\"text-align: right;\">\n",
       "      <th></th>\n",
       "      <th>Tweet</th>\n",
       "      <th>Tema</th>\n",
       "      <th>Stance</th>\n",
       "    </tr>\n",
       "  </thead>\n",
       "  <tbody>\n",
       "    <tr>\n",
       "      <td>2</td>\n",
       "      <td>hoy las mujeres argentinas somos más libres.</td>\n",
       "      <td>aborto</td>\n",
       "      <td>F</td>\n",
       "    </tr>\n",
       "    <tr>\n",
       "      <td>4</td>\n",
       "      <td>mainumby, la conozco, y a su madre. por varios...</td>\n",
       "      <td>aborto</td>\n",
       "      <td>F</td>\n",
       "    </tr>\n",
       "    <tr>\n",
       "      <td>5</td>\n",
       "      <td>están adoctrinando nenes q no saben ni cómo se...</td>\n",
       "      <td>aborto</td>\n",
       "      <td>F</td>\n",
       "    </tr>\n",
       "    <tr>\n",
       "      <td>6</td>\n",
       "      <td>noticia uruguaya; no queremos que todas aborte...</td>\n",
       "      <td>aborto</td>\n",
       "      <td>F</td>\n",
       "    </tr>\n",
       "    <tr>\n",
       "      <td>8</td>\n",
       "      <td>no tiñeron la argentina de celeste: se apropia...</td>\n",
       "      <td>aborto</td>\n",
       "      <td>F</td>\n",
       "    </tr>\n",
       "    <tr>\n",
       "      <td>...</td>\n",
       "      <td>...</td>\n",
       "      <td>...</td>\n",
       "      <td>...</td>\n",
       "    </tr>\n",
       "    <tr>\n",
       "      <td>427</td>\n",
       "      <td>esos diputados que hasta ahora se ganaron un l...</td>\n",
       "      <td>aborto</td>\n",
       "      <td>F</td>\n",
       "    </tr>\n",
       "    <tr>\n",
       "      <td>428</td>\n",
       "      <td>todxs necesitamos la ley de aborto. quiero que...</td>\n",
       "      <td>aborto</td>\n",
       "      <td>F</td>\n",
       "    </tr>\n",
       "    <tr>\n",
       "      <td>429</td>\n",
       "      <td>“...porque si este proyecto fuera rechazado, l...</td>\n",
       "      <td>aborto</td>\n",
       "      <td>F</td>\n",
       "    </tr>\n",
       "    <tr>\n",
       "      <td>430</td>\n",
       "      <td>el proyecto de la USER platea la interrupción ...</td>\n",
       "      <td>aborto</td>\n",
       "      <td>F</td>\n",
       "    </tr>\n",
       "    <tr>\n",
       "      <td>431</td>\n",
       "      <td>si no estás a favor del aborto, no abortes. no...</td>\n",
       "      <td>aborto</td>\n",
       "      <td>F</td>\n",
       "    </tr>\n",
       "  </tbody>\n",
       "</table>\n",
       "<p>220 rows × 3 columns</p>\n",
       "</div>"
      ],
      "text/plain": [
       "                                                 Tweet    Tema Stance\n",
       "2         hoy las mujeres argentinas somos más libres.  aborto      F\n",
       "4    mainumby, la conozco, y a su madre. por varios...  aborto      F\n",
       "5    están adoctrinando nenes q no saben ni cómo se...  aborto      F\n",
       "6    noticia uruguaya; no queremos que todas aborte...  aborto      F\n",
       "8    no tiñeron la argentina de celeste: se apropia...  aborto      F\n",
       "..                                                 ...     ...    ...\n",
       "427  esos diputados que hasta ahora se ganaron un l...  aborto      F\n",
       "428  todxs necesitamos la ley de aborto. quiero que...  aborto      F\n",
       "429  “...porque si este proyecto fuera rechazado, l...  aborto      F\n",
       "430  el proyecto de la USER platea la interrupción ...  aborto      F\n",
       "431  si no estás a favor del aborto, no abortes. no...  aborto      F\n",
       "\n",
       "[220 rows x 3 columns]"
      ]
     },
     "execution_count": 11,
     "metadata": {},
     "output_type": "execute_result"
    }
   ],
   "source": [
    "test_df.query(\"Stance == 'F'\")"
   ]
  },
  {
   "cell_type": "code",
   "execution_count": 12,
   "metadata": {},
   "outputs": [
    {
     "data": {
      "text/html": [
       "<div>\n",
       "<style scoped>\n",
       "    .dataframe tbody tr th:only-of-type {\n",
       "        vertical-align: middle;\n",
       "    }\n",
       "\n",
       "    .dataframe tbody tr th {\n",
       "        vertical-align: top;\n",
       "    }\n",
       "\n",
       "    .dataframe thead th {\n",
       "        text-align: right;\n",
       "    }\n",
       "</style>\n",
       "<table border=\"1\" class=\"dataframe\">\n",
       "  <thead>\n",
       "    <tr style=\"text-align: right;\">\n",
       "      <th></th>\n",
       "      <th>Tweet</th>\n",
       "      <th>Tema</th>\n",
       "      <th>Stance</th>\n",
       "    </tr>\n",
       "  </thead>\n",
       "  <tbody>\n",
       "    <tr>\n",
       "      <td>3</td>\n",
       "      <td>el niño por nacer es un ser humano a partir de...</td>\n",
       "      <td>aborto</td>\n",
       "      <td>C</td>\n",
       "    </tr>\n",
       "    <tr>\n",
       "      <td>7</td>\n",
       "      <td>#noabortolibre cada uno tiene derecho a elegir...</td>\n",
       "      <td>aborto</td>\n",
       "      <td>C</td>\n",
       "    </tr>\n",
       "    <tr>\n",
       "      <td>9</td>\n",
       "      <td>ser custodias de la vida es un privilegio que ...</td>\n",
       "      <td>aborto</td>\n",
       "      <td>C</td>\n",
       "    </tr>\n",
       "    <tr>\n",
       "      <td>13</td>\n",
       "      <td>duele ver mujeres levantando sus puños para qu...</td>\n",
       "      <td>aborto</td>\n",
       "      <td>C</td>\n",
       "    </tr>\n",
       "    <tr>\n",
       "      <td>19</td>\n",
       "      <td>#sialavida cada gesto cuenta... madre, tu don ...</td>\n",
       "      <td>aborto</td>\n",
       "      <td>C</td>\n",
       "    </tr>\n",
       "    <tr>\n",
       "      <td>...</td>\n",
       "      <td>...</td>\n",
       "      <td>...</td>\n",
       "      <td>...</td>\n",
       "    </tr>\n",
       "    <tr>\n",
       "      <td>419</td>\n",
       "      <td>⚪Ángeles rawson era activista provida. ⚪chiara...</td>\n",
       "      <td>aborto</td>\n",
       "      <td>C</td>\n",
       "    </tr>\n",
       "    <tr>\n",
       "      <td>421</td>\n",
       "      <td>virgen maría cuida y protege a los no nacidos ...</td>\n",
       "      <td>aborto</td>\n",
       "      <td>C</td>\n",
       "    </tr>\n",
       "    <tr>\n",
       "      <td>423</td>\n",
       "      <td>#sialasdosvidas hoy nos vemos en el congreso! URL</td>\n",
       "      <td>aborto</td>\n",
       "      <td>C</td>\n",
       "    </tr>\n",
       "    <tr>\n",
       "      <td>424</td>\n",
       "      <td>USER se suma a unas cuantas que mueren x abort...</td>\n",
       "      <td>aborto</td>\n",
       "      <td>C</td>\n",
       "    </tr>\n",
       "    <tr>\n",
       "      <td>426</td>\n",
       "      <td>USER #noalaborto #sialavida no al URL</td>\n",
       "      <td>aborto</td>\n",
       "      <td>C</td>\n",
       "    </tr>\n",
       "  </tbody>\n",
       "</table>\n",
       "<p>109 rows × 3 columns</p>\n",
       "</div>"
      ],
      "text/plain": [
       "                                                 Tweet    Tema Stance\n",
       "3    el niño por nacer es un ser humano a partir de...  aborto      C\n",
       "7    #noabortolibre cada uno tiene derecho a elegir...  aborto      C\n",
       "9    ser custodias de la vida es un privilegio que ...  aborto      C\n",
       "13   duele ver mujeres levantando sus puños para qu...  aborto      C\n",
       "19   #sialavida cada gesto cuenta... madre, tu don ...  aborto      C\n",
       "..                                                 ...     ...    ...\n",
       "419  ⚪Ángeles rawson era activista provida. ⚪chiara...  aborto      C\n",
       "421  virgen maría cuida y protege a los no nacidos ...  aborto      C\n",
       "423  #sialasdosvidas hoy nos vemos en el congreso! URL  aborto      C\n",
       "424  USER se suma a unas cuantas que mueren x abort...  aborto      C\n",
       "426              USER #noalaborto #sialavida no al URL  aborto      C\n",
       "\n",
       "[109 rows x 3 columns]"
      ]
     },
     "execution_count": 12,
     "metadata": {},
     "output_type": "execute_result"
    }
   ],
   "source": [
    "test_df.query(\"Stance == 'C'\")"
   ]
  },
  {
   "cell_type": "code",
   "execution_count": 13,
   "metadata": {},
   "outputs": [
    {
     "data": {
      "text/html": [
       "<div>\n",
       "<style scoped>\n",
       "    .dataframe tbody tr th:only-of-type {\n",
       "        vertical-align: middle;\n",
       "    }\n",
       "\n",
       "    .dataframe tbody tr th {\n",
       "        vertical-align: top;\n",
       "    }\n",
       "\n",
       "    .dataframe thead th {\n",
       "        text-align: right;\n",
       "    }\n",
       "</style>\n",
       "<table border=\"1\" class=\"dataframe\">\n",
       "  <thead>\n",
       "    <tr style=\"text-align: right;\">\n",
       "      <th></th>\n",
       "      <th>Tweet</th>\n",
       "      <th>Tema</th>\n",
       "      <th>Stance</th>\n",
       "    </tr>\n",
       "  </thead>\n",
       "  <tbody>\n",
       "    <tr>\n",
       "      <td>0</td>\n",
       "      <td>USER USER prensa tendenciosa de un periodista ...</td>\n",
       "      <td>aborto</td>\n",
       "      <td>N</td>\n",
       "    </tr>\n",
       "    <tr>\n",
       "      <td>1</td>\n",
       "      <td>sonríe siempre 😄 hay mil motivos para ser feli...</td>\n",
       "      <td>aborto</td>\n",
       "      <td>N</td>\n",
       "    </tr>\n",
       "    <tr>\n",
       "      <td>10</td>\n",
       "      <td>justicia social es</td>\n",
       "      <td>aborto</td>\n",
       "      <td>N</td>\n",
       "    </tr>\n",
       "    <tr>\n",
       "      <td>15</td>\n",
       "      <td>gran final 💚 URL</td>\n",
       "      <td>aborto</td>\n",
       "      <td>N</td>\n",
       "    </tr>\n",
       "    <tr>\n",
       "      <td>18</td>\n",
       "      <td>por fin alguien puso huevo y se animó a decir ...</td>\n",
       "      <td>aborto</td>\n",
       "      <td>N</td>\n",
       "    </tr>\n",
       "    <tr>\n",
       "      <td>...</td>\n",
       "      <td>...</td>\n",
       "      <td>...</td>\n",
       "      <td>...</td>\n",
       "    </tr>\n",
       "    <tr>\n",
       "      <td>405</td>\n",
       "      <td>12:27. congreso.. URL</td>\n",
       "      <td>aborto</td>\n",
       "      <td>N</td>\n",
       "    </tr>\n",
       "    <tr>\n",
       "      <td>408</td>\n",
       "      <td>249 bailarinas se reunieron hoy en mu para gri...</td>\n",
       "      <td>aborto</td>\n",
       "      <td>N</td>\n",
       "    </tr>\n",
       "    <tr>\n",
       "      <td>417</td>\n",
       "      <td>USER USER USER gran programa!!! 👏👏 💚</td>\n",
       "      <td>aborto</td>\n",
       "      <td>N</td>\n",
       "    </tr>\n",
       "    <tr>\n",
       "      <td>420</td>\n",
       "      <td>lo que defienden // lo que deberian defender. ...</td>\n",
       "      <td>aborto</td>\n",
       "      <td>N</td>\n",
       "    </tr>\n",
       "    <tr>\n",
       "      <td>425</td>\n",
       "      <td>en el congreso presentado proyecto de despenal...</td>\n",
       "      <td>aborto</td>\n",
       "      <td>N</td>\n",
       "    </tr>\n",
       "  </tbody>\n",
       "</table>\n",
       "<p>103 rows × 3 columns</p>\n",
       "</div>"
      ],
      "text/plain": [
       "                                                 Tweet    Tema Stance\n",
       "0    USER USER prensa tendenciosa de un periodista ...  aborto      N\n",
       "1    sonríe siempre 😄 hay mil motivos para ser feli...  aborto      N\n",
       "10                                  justicia social es  aborto      N\n",
       "15                                    gran final 💚 URL  aborto      N\n",
       "18   por fin alguien puso huevo y se animó a decir ...  aborto      N\n",
       "..                                                 ...     ...    ...\n",
       "405                              12:27. congreso.. URL  aborto      N\n",
       "408  249 bailarinas se reunieron hoy en mu para gri...  aborto      N\n",
       "417               USER USER USER gran programa!!! 👏👏 💚  aborto      N\n",
       "420  lo que defienden // lo que deberian defender. ...  aborto      N\n",
       "425  en el congreso presentado proyecto de despenal...  aborto      N\n",
       "\n",
       "[103 rows x 3 columns]"
      ]
     },
     "execution_count": 13,
     "metadata": {},
     "output_type": "execute_result"
    }
   ],
   "source": [
    "test_df.query(\"Stance == 'N'\")"
   ]
  },
  {
   "cell_type": "code",
   "execution_count": 19,
   "metadata": {},
   "outputs": [],
   "source": [
    "test_df = test_df.query(\"Stance == 'F' or Stance == 'C'\")"
   ]
  },
  {
   "cell_type": "code",
   "execution_count": 30,
   "metadata": {},
   "outputs": [
    {
     "name": "stderr",
     "output_type": "stream",
     "text": [
      "/home/rinnely/anaconda3/lib/python3.7/site-packages/ipykernel_launcher.py:1: SettingWithCopyWarning: \n",
      "A value is trying to be set on a copy of a slice from a DataFrame.\n",
      "Try using .loc[row_indexer,col_indexer] = value instead\n",
      "\n",
      "See the caveats in the documentation: http://pandas.pydata.org/pandas-docs/stable/user_guide/indexing.html#returning-a-view-versus-a-copy\n",
      "  \"\"\"Entry point for launching an IPython kernel.\n"
     ]
    }
   ],
   "source": [
    "test_df['Stance'] = test_df['Stance'].replace({'F':0, 'C':1})"
   ]
  },
  {
   "cell_type": "code",
   "execution_count": 79,
   "metadata": {},
   "outputs": [],
   "source": [
    "test_df = test_df[['Stance','Tweet']]"
   ]
  },
  {
   "cell_type": "code",
   "execution_count": 80,
   "metadata": {},
   "outputs": [],
   "source": [
    "test_df = cd.cleanData(test_df, 'Tweet', emojis=True)"
   ]
  },
  {
   "cell_type": "code",
   "execution_count": 82,
   "metadata": {},
   "outputs": [
    {
     "name": "stdout",
     "output_type": "stream",
     "text": [
      "<class 'pandas.core.frame.DataFrame'>\n",
      "Int64Index: 329 entries, 2 to 431\n",
      "Data columns (total 2 columns):\n",
      "Stance    329 non-null int64\n",
      "Tweet     329 non-null object\n",
      "dtypes: int64(1), object(1)\n",
      "memory usage: 17.7+ KB\n"
     ]
    }
   ],
   "source": [
    "test_df.info()"
   ]
  },
  {
   "cell_type": "code",
   "execution_count": 90,
   "metadata": {},
   "outputs": [
    {
     "data": {
      "text/plain": [
       "<matplotlib.axes._subplots.AxesSubplot at 0x7f7eb35e2750>"
      ]
     },
     "execution_count": 90,
     "metadata": {},
     "output_type": "execute_result"
    },
    {
     "data": {
      "image/png": "[encoded data removed]",
      "text/plain": [
       "<Figure size 432x288 with 1 Axes>"
      ]
     },
     "metadata": {
      "needs_background": "light"
     },
     "output_type": "display_data"
    }
   ],
   "source": [
    "test_df['Stance'].value_counts().plot.bar(legend=True)"
   ]
  },
  {
   "cell_type": "code",
   "execution_count": 91,
   "metadata": {},
   "outputs": [
    {
     "data": {
      "text/plain": [
       "0    220\n",
       "1    109\n",
       "Name: Stance, dtype: int64"
      ]
     },
     "execution_count": 91,
     "metadata": {},
     "output_type": "execute_result"
    }
   ],
   "source": [
    "test_df['Stance'].value_counts()"
   ]
  },
  {
   "cell_type": "code",
   "execution_count": 83,
   "metadata": {},
   "outputs": [],
   "source": [
    "test_df.to_csv('clean_test_aborto500.csv', index=False)"
   ]
  },
  {
   "cell_type": "code",
   "execution_count": 62,
   "metadata": {},
   "outputs": [],
   "source": [
    "train_df['Tweet'] = train_df['Tweet'].str.lower()"
   ]
  },
  {
   "cell_type": "code",
   "execution_count": 66,
   "metadata": {},
   "outputs": [],
   "source": [
    "train_df = cd.cleanData(train_df, 'Tweet', urls='URL', ussers='USER', emojis=True)"
   ]
  },
  {
   "cell_type": "code",
   "execution_count": 67,
   "metadata": {},
   "outputs": [
    {
     "data": {
      "text/html": [
       "<div>\n",
       "<style scoped>\n",
       "    .dataframe tbody tr th:only-of-type {\n",
       "        vertical-align: middle;\n",
       "    }\n",
       "\n",
       "    .dataframe tbody tr th {\n",
       "        vertical-align: top;\n",
       "    }\n",
       "\n",
       "    .dataframe thead th {\n",
       "        text-align: right;\n",
       "    }\n",
       "</style>\n",
       "<table border=\"1\" class=\"dataframe\">\n",
       "  <thead>\n",
       "    <tr style=\"text-align: right;\">\n",
       "      <th></th>\n",
       "      <th>id</th>\n",
       "      <th>Tweet</th>\n",
       "      <th>Stance</th>\n",
       "    </tr>\n",
       "  </thead>\n",
       "  <tbody>\n",
       "    <tr>\n",
       "      <td>0</td>\n",
       "      <td>1224118352148385793</td>\n",
       "      <td>hace 15 años, la USER genera lazos a través de...</td>\n",
       "      <td>0</td>\n",
       "    </tr>\n",
       "    <tr>\n",
       "      <td>1</td>\n",
       "      <td>1224118330950344706</td>\n",
       "      <td>en 2019 el estado mexicano de oaxaca y el aust...</td>\n",
       "      <td>0</td>\n",
       "    </tr>\n",
       "    <tr>\n",
       "      <td>2</td>\n",
       "      <td>1224114750428274690</td>\n",
       "      <td>también en #jujuy el proyecto está en las call...</td>\n",
       "      <td>0</td>\n",
       "    </tr>\n",
       "    <tr>\n",
       "      <td>3</td>\n",
       "      <td>1224110020062740482</td>\n",
       "      <td>el 19 de febrero volvemos a las calles, y en c...</td>\n",
       "      <td>0</td>\n",
       "    </tr>\n",
       "    <tr>\n",
       "      <td>4</td>\n",
       "      <td>1224106619061055488</td>\n",
       "      <td>esto sí es una \"obra\" pero no artística. esto ...</td>\n",
       "      <td>1</td>\n",
       "    </tr>\n",
       "    <tr>\n",
       "      <td>...</td>\n",
       "      <td>...</td>\n",
       "      <td>...</td>\n",
       "      <td>...</td>\n",
       "    </tr>\n",
       "    <tr>\n",
       "      <td>2857</td>\n",
       "      <td>1222678352328261633</td>\n",
       "      <td>en #méxico, 200 mujeres están en prisión por a...</td>\n",
       "      <td>0</td>\n",
       "    </tr>\n",
       "    <tr>\n",
       "      <td>2858</td>\n",
       "      <td>1222677476490514432</td>\n",
       "      <td>desdecdmx les apoyamos porque #mexicoesprovida...</td>\n",
       "      <td>1</td>\n",
       "    </tr>\n",
       "    <tr>\n",
       "      <td>2859</td>\n",
       "      <td>1222676274474299392</td>\n",
       "      <td>la sana práctica que aterra a los abortistas...</td>\n",
       "      <td>1</td>\n",
       "    </tr>\n",
       "    <tr>\n",
       "      <td>2860</td>\n",
       "      <td>1222664128453578752</td>\n",
       "      <td>“mi #pañueloverde no obliga a #abortar, pero t...</td>\n",
       "      <td>0</td>\n",
       "    </tr>\n",
       "    <tr>\n",
       "      <td>2861</td>\n",
       "      <td>1222664065429929984</td>\n",
       "      <td>frases educativas sobre #familiayvida de #funb...</td>\n",
       "      <td>1</td>\n",
       "    </tr>\n",
       "  </tbody>\n",
       "</table>\n",
       "<p>2862 rows × 3 columns</p>\n",
       "</div>"
      ],
      "text/plain": [
       "                       id                                              Tweet  \\\n",
       "0     1224118352148385793  hace 15 años, la USER genera lazos a través de...   \n",
       "1     1224118330950344706  en 2019 el estado mexicano de oaxaca y el aust...   \n",
       "2     1224114750428274690  también en #jujuy el proyecto está en las call...   \n",
       "3     1224110020062740482  el 19 de febrero volvemos a las calles, y en c...   \n",
       "4     1224106619061055488  esto sí es una \"obra\" pero no artística. esto ...   \n",
       "...                   ...                                                ...   \n",
       "2857  1222678352328261633  en #méxico, 200 mujeres están en prisión por a...   \n",
       "2858  1222677476490514432  desdecdmx les apoyamos porque #mexicoesprovida...   \n",
       "2859  1222676274474299392    la sana práctica que aterra a los abortistas...   \n",
       "2860  1222664128453578752  “mi #pañueloverde no obliga a #abortar, pero t...   \n",
       "2861  1222664065429929984  frases educativas sobre #familiayvida de #funb...   \n",
       "\n",
       "      Stance  \n",
       "0          0  \n",
       "1          0  \n",
       "2          0  \n",
       "3          0  \n",
       "4          1  \n",
       "...      ...  \n",
       "2857       0  \n",
       "2858       1  \n",
       "2859       1  \n",
       "2860       0  \n",
       "2861       1  \n",
       "\n",
       "[2862 rows x 3 columns]"
      ]
     },
     "execution_count": 67,
     "metadata": {},
     "output_type": "execute_result"
    }
   ],
   "source": [
    "train_df"
   ]
  },
  {
   "cell_type": "code",
   "execution_count": 68,
   "metadata": {},
   "outputs": [
    {
     "data": {
      "text/html": [
       "<div>\n",
       "<style scoped>\n",
       "    .dataframe tbody tr th:only-of-type {\n",
       "        vertical-align: middle;\n",
       "    }\n",
       "\n",
       "    .dataframe tbody tr th {\n",
       "        vertical-align: top;\n",
       "    }\n",
       "\n",
       "    .dataframe thead th {\n",
       "        text-align: right;\n",
       "    }\n",
       "</style>\n",
       "<table border=\"1\" class=\"dataframe\">\n",
       "  <thead>\n",
       "    <tr style=\"text-align: right;\">\n",
       "      <th></th>\n",
       "      <th>id</th>\n",
       "      <th>Tweet</th>\n",
       "      <th>Stance</th>\n",
       "    </tr>\n",
       "  </thead>\n",
       "  <tbody>\n",
       "    <tr>\n",
       "      <td>0</td>\n",
       "      <td>1224118352148385793</td>\n",
       "      <td>hace 15 años, la USER genera lazos a través de...</td>\n",
       "      <td>0</td>\n",
       "    </tr>\n",
       "    <tr>\n",
       "      <td>1</td>\n",
       "      <td>1224118330950344706</td>\n",
       "      <td>en 2019 el estado mexicano de oaxaca y el aust...</td>\n",
       "      <td>0</td>\n",
       "    </tr>\n",
       "    <tr>\n",
       "      <td>2</td>\n",
       "      <td>1224114750428274690</td>\n",
       "      <td>también en #jujuy el proyecto está en las call...</td>\n",
       "      <td>0</td>\n",
       "    </tr>\n",
       "    <tr>\n",
       "      <td>3</td>\n",
       "      <td>1224110020062740482</td>\n",
       "      <td>el 19 de febrero volvemos a las calles, y en c...</td>\n",
       "      <td>0</td>\n",
       "    </tr>\n",
       "    <tr>\n",
       "      <td>5</td>\n",
       "      <td>1224105223536488449</td>\n",
       "      <td>pasó una hora más, recuerden que #sonresponsab...</td>\n",
       "      <td>0</td>\n",
       "    </tr>\n",
       "    <tr>\n",
       "      <td>...</td>\n",
       "      <td>...</td>\n",
       "      <td>...</td>\n",
       "      <td>...</td>\n",
       "    </tr>\n",
       "    <tr>\n",
       "      <td>2847</td>\n",
       "      <td>1222700966778150912</td>\n",
       "      <td>por si lo habían olvidado, durante esta hora s...</td>\n",
       "      <td>0</td>\n",
       "    </tr>\n",
       "    <tr>\n",
       "      <td>2852</td>\n",
       "      <td>1222693602469601286</td>\n",
       "      <td>mi hija se fue a noa de vacaciones. dentro de ...</td>\n",
       "      <td>0</td>\n",
       "    </tr>\n",
       "    <tr>\n",
       "      <td>2855</td>\n",
       "      <td>1222688271542771712</td>\n",
       "      <td>ile hay una sola y</td>\n",
       "      <td>0</td>\n",
       "    </tr>\n",
       "    <tr>\n",
       "      <td>2857</td>\n",
       "      <td>1222678352328261633</td>\n",
       "      <td>en #méxico, 200 mujeres están en prisión por a...</td>\n",
       "      <td>0</td>\n",
       "    </tr>\n",
       "    <tr>\n",
       "      <td>2860</td>\n",
       "      <td>1222664128453578752</td>\n",
       "      <td>“mi #pañueloverde no obliga a #abortar, pero t...</td>\n",
       "      <td>0</td>\n",
       "    </tr>\n",
       "  </tbody>\n",
       "</table>\n",
       "<p>1133 rows × 3 columns</p>\n",
       "</div>"
      ],
      "text/plain": [
       "                       id                                              Tweet  \\\n",
       "0     1224118352148385793  hace 15 años, la USER genera lazos a través de...   \n",
       "1     1224118330950344706  en 2019 el estado mexicano de oaxaca y el aust...   \n",
       "2     1224114750428274690  también en #jujuy el proyecto está en las call...   \n",
       "3     1224110020062740482  el 19 de febrero volvemos a las calles, y en c...   \n",
       "5     1224105223536488449  pasó una hora más, recuerden que #sonresponsab...   \n",
       "...                   ...                                                ...   \n",
       "2847  1222700966778150912  por si lo habían olvidado, durante esta hora s...   \n",
       "2852  1222693602469601286  mi hija se fue a noa de vacaciones. dentro de ...   \n",
       "2855  1222688271542771712                                 ile hay una sola y   \n",
       "2857  1222678352328261633  en #méxico, 200 mujeres están en prisión por a...   \n",
       "2860  1222664128453578752  “mi #pañueloverde no obliga a #abortar, pero t...   \n",
       "\n",
       "      Stance  \n",
       "0          0  \n",
       "1          0  \n",
       "2          0  \n",
       "3          0  \n",
       "5          0  \n",
       "...      ...  \n",
       "2847       0  \n",
       "2852       0  \n",
       "2855       0  \n",
       "2857       0  \n",
       "2860       0  \n",
       "\n",
       "[1133 rows x 3 columns]"
      ]
     },
     "execution_count": 68,
     "metadata": {},
     "output_type": "execute_result"
    }
   ],
   "source": [
    "train_df.query(\"Stance == 0\")"
   ]
  },
  {
   "cell_type": "code",
   "execution_count": 69,
   "metadata": {},
   "outputs": [
    {
     "data": {
      "text/html": [
       "<div>\n",
       "<style scoped>\n",
       "    .dataframe tbody tr th:only-of-type {\n",
       "        vertical-align: middle;\n",
       "    }\n",
       "\n",
       "    .dataframe tbody tr th {\n",
       "        vertical-align: top;\n",
       "    }\n",
       "\n",
       "    .dataframe thead th {\n",
       "        text-align: right;\n",
       "    }\n",
       "</style>\n",
       "<table border=\"1\" class=\"dataframe\">\n",
       "  <thead>\n",
       "    <tr style=\"text-align: right;\">\n",
       "      <th></th>\n",
       "      <th>id</th>\n",
       "      <th>Tweet</th>\n",
       "      <th>Stance</th>\n",
       "    </tr>\n",
       "  </thead>\n",
       "  <tbody>\n",
       "    <tr>\n",
       "      <td>4</td>\n",
       "      <td>1224106619061055488</td>\n",
       "      <td>esto sí es una \"obra\" pero no artística. esto ...</td>\n",
       "      <td>1</td>\n",
       "    </tr>\n",
       "    <tr>\n",
       "      <td>6</td>\n",
       "      <td>1224103105664561152</td>\n",
       "      <td>\"tremendo testimonio de rebecca kiessling quie...</td>\n",
       "      <td>1</td>\n",
       "    </tr>\n",
       "    <tr>\n",
       "      <td>10</td>\n",
       "      <td>1224098268172472320</td>\n",
       "      <td>el último videoclip de #ricky_martin muestra u...</td>\n",
       "      <td>1</td>\n",
       "    </tr>\n",
       "    <tr>\n",
       "      <td>11</td>\n",
       "      <td>1224095313410965504</td>\n",
       "      <td>claro q si!!!!! todas las vidas tienen un prop...</td>\n",
       "      <td>1</td>\n",
       "    </tr>\n",
       "    <tr>\n",
       "      <td>12</td>\n",
       "      <td>1224080863794618370</td>\n",
       "      <td>la vida humana se respeta #noalcodigoolga #noa...</td>\n",
       "      <td>1</td>\n",
       "    </tr>\n",
       "    <tr>\n",
       "      <td>...</td>\n",
       "      <td>...</td>\n",
       "      <td>...</td>\n",
       "      <td>...</td>\n",
       "    </tr>\n",
       "    <tr>\n",
       "      <td>2854</td>\n",
       "      <td>1222690226864381952</td>\n",
       "      <td>no hay humanidad en un asesinato.</td>\n",
       "      <td>1</td>\n",
       "    </tr>\n",
       "    <tr>\n",
       "      <td>2856</td>\n",
       "      <td>1222682305447198721</td>\n",
       "      <td>a esto llaman “derecho”. quiénes hacen esto so...</td>\n",
       "      <td>1</td>\n",
       "    </tr>\n",
       "    <tr>\n",
       "      <td>2858</td>\n",
       "      <td>1222677476490514432</td>\n",
       "      <td>desdecdmx les apoyamos porque #mexicoesprovida...</td>\n",
       "      <td>1</td>\n",
       "    </tr>\n",
       "    <tr>\n",
       "      <td>2859</td>\n",
       "      <td>1222676274474299392</td>\n",
       "      <td>la sana práctica que aterra a los abortistas...</td>\n",
       "      <td>1</td>\n",
       "    </tr>\n",
       "    <tr>\n",
       "      <td>2861</td>\n",
       "      <td>1222664065429929984</td>\n",
       "      <td>frases educativas sobre #familiayvida de #funb...</td>\n",
       "      <td>1</td>\n",
       "    </tr>\n",
       "  </tbody>\n",
       "</table>\n",
       "<p>1723 rows × 3 columns</p>\n",
       "</div>"
      ],
      "text/plain": [
       "                       id                                              Tweet  \\\n",
       "4     1224106619061055488  esto sí es una \"obra\" pero no artística. esto ...   \n",
       "6     1224103105664561152  \"tremendo testimonio de rebecca kiessling quie...   \n",
       "10    1224098268172472320  el último videoclip de #ricky_martin muestra u...   \n",
       "11    1224095313410965504  claro q si!!!!! todas las vidas tienen un prop...   \n",
       "12    1224080863794618370  la vida humana se respeta #noalcodigoolga #noa...   \n",
       "...                   ...                                                ...   \n",
       "2854  1222690226864381952                  no hay humanidad en un asesinato.   \n",
       "2856  1222682305447198721  a esto llaman “derecho”. quiénes hacen esto so...   \n",
       "2858  1222677476490514432  desdecdmx les apoyamos porque #mexicoesprovida...   \n",
       "2859  1222676274474299392    la sana práctica que aterra a los abortistas...   \n",
       "2861  1222664065429929984  frases educativas sobre #familiayvida de #funb...   \n",
       "\n",
       "      Stance  \n",
       "4          1  \n",
       "6          1  \n",
       "10         1  \n",
       "11         1  \n",
       "12         1  \n",
       "...      ...  \n",
       "2854       1  \n",
       "2856       1  \n",
       "2858       1  \n",
       "2859       1  \n",
       "2861       1  \n",
       "\n",
       "[1723 rows x 3 columns]"
      ]
     },
     "execution_count": 69,
     "metadata": {},
     "output_type": "execute_result"
    }
   ],
   "source": [
    "train_df.query(\"Stance == 1\")"
   ]
  },
  {
   "cell_type": "code",
   "execution_count": 70,
   "metadata": {},
   "outputs": [
    {
     "data": {
      "text/plain": [
       "<matplotlib.axes._subplots.AxesSubplot at 0x7f7ec5871250>"
      ]
     },
     "execution_count": 70,
     "metadata": {},
     "output_type": "execute_result"
    },
    {
     "data": {
      "image/png": "[encoded data removed]",
      "text/plain": [
       "<Figure size 432x288 with 1 Axes>"
      ]
     },
     "metadata": {
      "needs_background": "light"
     },
     "output_type": "display_data"
    }
   ],
   "source": [
    "train_df['Stance'].value_counts().plot.bar(legend=True)"
   ]
  },
  {
   "cell_type": "code",
   "execution_count": 71,
   "metadata": {},
   "outputs": [
    {
     "data": {
      "text/plain": [
       "<matplotlib.axes._subplots.AxesSubplot at 0x7f7eb32b1690>"
      ]
     },
     "execution_count": 71,
     "metadata": {},
     "output_type": "execute_result"
    },
    {
     "data": {
      "image/png": "[encoded data removed]",
      "text/plain": [
       "<Figure size 432x288 with 1 Axes>"
      ]
     },
     "metadata": {},
     "output_type": "display_data"
    }
   ],
   "source": [
    "train_df['Stance'].value_counts().plot.pie(legend=True)"
   ]
  },
  {
   "cell_type": "code",
   "execution_count": 72,
   "metadata": {},
   "outputs": [],
   "source": [
    "train_data = train_df.query('Stance == 0').sample(n=1000)"
   ]
  },
  {
   "cell_type": "code",
   "execution_count": 73,
   "metadata": {},
   "outputs": [],
   "source": [
    "train_data = train_data.append(train_df.query('Stance == 1').sample(n=1000))"
   ]
  },
  {
   "cell_type": "code",
   "execution_count": 74,
   "metadata": {},
   "outputs": [
    {
     "data": {
      "text/html": [
       "<div>\n",
       "<style scoped>\n",
       "    .dataframe tbody tr th:only-of-type {\n",
       "        vertical-align: middle;\n",
       "    }\n",
       "\n",
       "    .dataframe tbody tr th {\n",
       "        vertical-align: top;\n",
       "    }\n",
       "\n",
       "    .dataframe thead th {\n",
       "        text-align: right;\n",
       "    }\n",
       "</style>\n",
       "<table border=\"1\" class=\"dataframe\">\n",
       "  <thead>\n",
       "    <tr style=\"text-align: right;\">\n",
       "      <th></th>\n",
       "      <th>id</th>\n",
       "      <th>Tweet</th>\n",
       "      <th>Stance</th>\n",
       "    </tr>\n",
       "  </thead>\n",
       "  <tbody>\n",
       "    <tr>\n",
       "      <td>2383</td>\n",
       "      <td>1229421415163727873</td>\n",
       "      <td>#19f pañuelazo en formosa a partir de las 18 h...</td>\n",
       "      <td>0</td>\n",
       "    </tr>\n",
       "    <tr>\n",
       "      <td>1989</td>\n",
       "      <td>1228437862208692225</td>\n",
       "      <td>encuestas de rcn, el chiste se cuenta solo así...</td>\n",
       "      <td>0</td>\n",
       "    </tr>\n",
       "    <tr>\n",
       "      <td>1935</td>\n",
       "      <td>1212940929298030595</td>\n",
       "      <td>USER es el orgullx de esa juventud, de esas mu...</td>\n",
       "      <td>0</td>\n",
       "    </tr>\n",
       "    <tr>\n",
       "      <td>2048</td>\n",
       "      <td>1228379605209235456</td>\n",
       "      <td>hoy también es el día del amor propio . . . #f...</td>\n",
       "      <td>0</td>\n",
       "    </tr>\n",
       "    <tr>\n",
       "      <td>1506</td>\n",
       "      <td>1232696826115088390</td>\n",
       "      <td>\"será ley\", el texto de USER en favor de la lu...</td>\n",
       "      <td>0</td>\n",
       "    </tr>\n",
       "    <tr>\n",
       "      <td>...</td>\n",
       "      <td>...</td>\n",
       "      <td>...</td>\n",
       "      <td>...</td>\n",
       "    </tr>\n",
       "    <tr>\n",
       "      <td>122</td>\n",
       "      <td>1223690104868343808</td>\n",
       "      <td>siempre levantaré mí voz em defensa de los no ...</td>\n",
       "      <td>1</td>\n",
       "    </tr>\n",
       "    <tr>\n",
       "      <td>1951</td>\n",
       "      <td>1212871186557865984</td>\n",
       "      <td>esto es una barbaridad! URL</td>\n",
       "      <td>1</td>\n",
       "    </tr>\n",
       "    <tr>\n",
       "      <td>330</td>\n",
       "      <td>1216261383865688064</td>\n",
       "      <td>ahí lo dejo URL</td>\n",
       "      <td>1</td>\n",
       "    </tr>\n",
       "    <tr>\n",
       "      <td>1470</td>\n",
       "      <td>1232720160227823616</td>\n",
       "      <td>no queremos una corte a favor del aborto. no ...</td>\n",
       "      <td>1</td>\n",
       "    </tr>\n",
       "    <tr>\n",
       "      <td>2402</td>\n",
       "      <td>1229401230226722819</td>\n",
       "      <td>a todos, al estado en su totalidad y a la soci...</td>\n",
       "      <td>1</td>\n",
       "    </tr>\n",
       "  </tbody>\n",
       "</table>\n",
       "<p>2000 rows × 3 columns</p>\n",
       "</div>"
      ],
      "text/plain": [
       "                       id                                              Tweet  \\\n",
       "2383  1229421415163727873  #19f pañuelazo en formosa a partir de las 18 h...   \n",
       "1989  1228437862208692225  encuestas de rcn, el chiste se cuenta solo así...   \n",
       "1935  1212940929298030595  USER es el orgullx de esa juventud, de esas mu...   \n",
       "2048  1228379605209235456  hoy también es el día del amor propio . . . #f...   \n",
       "1506  1232696826115088390  \"será ley\", el texto de USER en favor de la lu...   \n",
       "...                   ...                                                ...   \n",
       "122   1223690104868343808  siempre levantaré mí voz em defensa de los no ...   \n",
       "1951  1212871186557865984                        esto es una barbaridad! URL   \n",
       "330   1216261383865688064                                    ahí lo dejo URL   \n",
       "1470  1232720160227823616   no queremos una corte a favor del aborto. no ...   \n",
       "2402  1229401230226722819  a todos, al estado en su totalidad y a la soci...   \n",
       "\n",
       "      Stance  \n",
       "2383       0  \n",
       "1989       0  \n",
       "1935       0  \n",
       "2048       0  \n",
       "1506       0  \n",
       "...      ...  \n",
       "122        1  \n",
       "1951       1  \n",
       "330        1  \n",
       "1470       1  \n",
       "2402       1  \n",
       "\n",
       "[2000 rows x 3 columns]"
      ]
     },
     "execution_count": 74,
     "metadata": {},
     "output_type": "execute_result"
    }
   ],
   "source": [
    "train_data"
   ]
  },
  {
   "cell_type": "code",
   "execution_count": 75,
   "metadata": {},
   "outputs": [
    {
     "data": {
      "text/plain": [
       "<matplotlib.axes._subplots.AxesSubplot at 0x7f7ec589a290>"
      ]
     },
     "execution_count": 75,
     "metadata": {},
     "output_type": "execute_result"
    },
    {
     "data": {
      "image/png": "[encoded data removed]",
      "text/plain": [
       "<Figure size 432x288 with 1 Axes>"
      ]
     },
     "metadata": {
      "needs_background": "light"
     },
     "output_type": "display_data"
    }
   ],
   "source": [
    "train_data['Stance'].value_counts().plot.bar(legend=True)"
   ]
  },
  {
   "cell_type": "code",
   "execution_count": 84,
   "metadata": {},
   "outputs": [],
   "source": [
    "train_data = train_data[['Stance','Tweet']]"
   ]
  },
  {
   "cell_type": "code",
   "execution_count": 85,
   "metadata": {},
   "outputs": [
    {
     "data": {
      "text/html": [
       "<div>\n",
       "<style scoped>\n",
       "    .dataframe tbody tr th:only-of-type {\n",
       "        vertical-align: middle;\n",
       "    }\n",
       "\n",
       "    .dataframe tbody tr th {\n",
       "        vertical-align: top;\n",
       "    }\n",
       "\n",
       "    .dataframe thead th {\n",
       "        text-align: right;\n",
       "    }\n",
       "</style>\n",
       "<table border=\"1\" class=\"dataframe\">\n",
       "  <thead>\n",
       "    <tr style=\"text-align: right;\">\n",
       "      <th></th>\n",
       "      <th>Stance</th>\n",
       "      <th>Tweet</th>\n",
       "    </tr>\n",
       "  </thead>\n",
       "  <tbody>\n",
       "    <tr>\n",
       "      <td>2383</td>\n",
       "      <td>0</td>\n",
       "      <td>#19f pañuelazo en formosa a partir de las 18 h...</td>\n",
       "    </tr>\n",
       "    <tr>\n",
       "      <td>1989</td>\n",
       "      <td>0</td>\n",
       "      <td>encuestas de rcn, el chiste se cuenta solo así...</td>\n",
       "    </tr>\n",
       "    <tr>\n",
       "      <td>1935</td>\n",
       "      <td>0</td>\n",
       "      <td>USER es el orgullx de esa juventud, de esas mu...</td>\n",
       "    </tr>\n",
       "    <tr>\n",
       "      <td>2048</td>\n",
       "      <td>0</td>\n",
       "      <td>hoy también es el día del amor propio . . . #f...</td>\n",
       "    </tr>\n",
       "    <tr>\n",
       "      <td>1506</td>\n",
       "      <td>0</td>\n",
       "      <td>\"será ley\", el texto de USER en favor de la lu...</td>\n",
       "    </tr>\n",
       "  </tbody>\n",
       "</table>\n",
       "</div>"
      ],
      "text/plain": [
       "      Stance                                              Tweet\n",
       "2383       0  #19f pañuelazo en formosa a partir de las 18 h...\n",
       "1989       0  encuestas de rcn, el chiste se cuenta solo así...\n",
       "1935       0  USER es el orgullx de esa juventud, de esas mu...\n",
       "2048       0  hoy también es el día del amor propio . . . #f...\n",
       "1506       0  \"será ley\", el texto de USER en favor de la lu..."
      ]
     },
     "execution_count": 85,
     "metadata": {},
     "output_type": "execute_result"
    }
   ],
   "source": [
    "train_data.head()"
   ]
  },
  {
   "cell_type": "code",
   "execution_count": 87,
   "metadata": {},
   "outputs": [
    {
     "name": "stdout",
     "output_type": "stream",
     "text": [
      "<class 'pandas.core.frame.DataFrame'>\n",
      "Int64Index: 2000 entries, 2383 to 2402\n",
      "Data columns (total 2 columns):\n",
      "Stance    2000 non-null int64\n",
      "Tweet     2000 non-null object\n",
      "dtypes: int64(1), object(1)\n",
      "memory usage: 46.9+ KB\n"
     ]
    }
   ],
   "source": [
    "train_data.info()"
   ]
  },
  {
   "cell_type": "code",
   "execution_count": 89,
   "metadata": {},
   "outputs": [],
   "source": [
    "train_data.to_csv('clean_train_aborto.csv', index=False)"
   ]
  },
  {
   "cell_type": "code",
   "execution_count": null,
   "metadata": {},
   "outputs": [],
   "source": []
  }
 ],
 "metadata": {
  "kernelspec": {
   "display_name": "Python 3",
   "language": "python",
   "name": "python3"
  },
  "language_info": {
   "codemirror_mode": {
    "name": "ipython",
    "version": 3
   },
   "file_extension": ".py",
   "mimetype": "text/x-python",
   "name": "python",
   "nbconvert_exporter": "python",
   "pygments_lexer": "ipython3",
   "version": "3.7.4"
  }
 },
 "nbformat": 4,
 "nbformat_minor": 4
}
