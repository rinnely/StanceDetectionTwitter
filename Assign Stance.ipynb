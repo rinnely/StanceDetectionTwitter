{
 "cells": [
  {
   "cell_type": "code",
   "execution_count": 1,
   "metadata": {},
   "outputs": [],
   "source": [
    "import pandas as pd\n",
    "import cleandata as cd\n",
    "import unicodedata"
   ]
  },
  {
   "cell_type": "code",
   "execution_count": 17,
   "metadata": {},
   "outputs": [],
   "source": [
    "def removeAccents(input_str):\n",
    "    nfkd_form = unicodedata.normalize('NFKD', input_str)\n",
    "    only_ascii = nfkd_form.encode('ASCII', 'ignore')\n",
    "    return only_ascii.decode().lower()"
   ]
  },
  {
   "cell_type": "code",
   "execution_count": 2,
   "metadata": {},
   "outputs": [],
   "source": [
    "filec = '/home/rinnely/ENES/Stance/JIDOKA/communities_aborto500.txt'"
   ]
  },
  {
   "cell_type": "code",
   "execution_count": 3,
   "metadata": {},
   "outputs": [],
   "source": [
    "comunities = pd.read_csv(filec)"
   ]
  },
  {
   "cell_type": "code",
   "execution_count": 72,
   "metadata": {},
   "outputs": [
    {
     "data": {
      "text/plain": [
       "ht           #aborto\n",
       "community         -1\n",
       "Name: 11, dtype: object"
      ]
     },
     "execution_count": 72,
     "metadata": {},
     "output_type": "execute_result"
    }
   ],
   "source": [
    "comunities.iloc[11]"
   ]
  },
  {
   "cell_type": "code",
   "execution_count": 70,
   "metadata": {},
   "outputs": [],
   "source": [
    "comunities.loc[11,'community'] = -1"
   ]
  },
  {
   "cell_type": "code",
   "execution_count": 73,
   "metadata": {},
   "outputs": [],
   "source": [
    "communities_dict = dict(comunities.groupby('community')['ht'].apply(list))"
   ]
  },
  {
   "cell_type": "code",
   "execution_count": 5,
   "metadata": {},
   "outputs": [],
   "source": [
    "file = './ABORTOLA/ABORTOLA.csv'"
   ]
  },
  {
   "cell_type": "code",
   "execution_count": 6,
   "metadata": {},
   "outputs": [],
   "source": [
    "data = pd.read_csv(file)"
   ]
  },
  {
   "cell_type": "code",
   "execution_count": 27,
   "metadata": {},
   "outputs": [
    {
     "data": {
      "text/plain": [
       "'Derechos que se le violan a una mujer cuando la obligan a abortar o a parir.\\n\\n1. Derecho a la vida, integridad física y moral.\\n\\nAbortar y parir traen consecuencias físicas, morales y mentales. Debería ser nuestra decisión cuando se pone en peligro la propia vida\\n#abortolegal (+) https://twitter.com/LasIgualadas/status/1223292608773885953\\xa0…'"
      ]
     },
     "execution_count": 27,
     "metadata": {},
     "output_type": "execute_result"
    }
   ],
   "source": [
    "data['Tweet'][9]"
   ]
  },
  {
   "cell_type": "code",
   "execution_count": 28,
   "metadata": {},
   "outputs": [
    {
     "data": {
      "text/plain": [
       "'Derechos que se le violan a una mujer cuando la obligan a abortar o a parir. 1. Derecho a la vida, integridad física y moral. Abortar y parir traen consecuencias físicas, morales y mentales. Debería ser nuestra decisión cuando se pone en peligro la propia vida #abortolegal (+) https://twitter.com/LasIgualadas/status/1223292608773885953 …'"
      ]
     },
     "execution_count": 28,
     "metadata": {},
     "output_type": "execute_result"
    }
   ],
   "source": [
    "cd.removeLastHT(data['Tweet'][9])"
   ]
  },
  {
   "cell_type": "code",
   "execution_count": 82,
   "metadata": {},
   "outputs": [],
   "source": [
    "data['Stance'] = ''"
   ]
  },
  {
   "cell_type": "code",
   "execution_count": 83,
   "metadata": {
    "collapsed": true,
    "jupyter": {
     "outputs_hidden": true
    }
   },
   "outputs": [
    {
     "data": {
      "text/html": [
       "<div>\n",
       "<style scoped>\n",
       "    .dataframe tbody tr th:only-of-type {\n",
       "        vertical-align: middle;\n",
       "    }\n",
       "\n",
       "    .dataframe tbody tr th {\n",
       "        vertical-align: top;\n",
       "    }\n",
       "\n",
       "    .dataframe thead th {\n",
       "        text-align: right;\n",
       "    }\n",
       "</style>\n",
       "<table border=\"1\" class=\"dataframe\">\n",
       "  <thead>\n",
       "    <tr style=\"text-align: right;\">\n",
       "      <th></th>\n",
       "      <th>id</th>\n",
       "      <th>Tweet</th>\n",
       "      <th>Stance</th>\n",
       "    </tr>\n",
       "  </thead>\n",
       "  <tbody>\n",
       "    <tr>\n",
       "      <td>0</td>\n",
       "      <td>1224118352148385793</td>\n",
       "      <td>Hace 15 años, la @CampAbortoLegal genera lazos...</td>\n",
       "      <td></td>\n",
       "    </tr>\n",
       "    <tr>\n",
       "      <td>1</td>\n",
       "      <td>1224118330950344706</td>\n",
       "      <td>En 2019 el estado mexicano de Oaxaca y el aust...</td>\n",
       "      <td></td>\n",
       "    </tr>\n",
       "    <tr>\n",
       "      <td>2</td>\n",
       "      <td>1224114750428274690</td>\n",
       "      <td>También en #Jujuy \\nEl proyecto está en las ca...</td>\n",
       "      <td></td>\n",
       "    </tr>\n",
       "    <tr>\n",
       "      <td>3</td>\n",
       "      <td>1224110020062740482</td>\n",
       "      <td>El 19 de Febrero volvemos a las calles, y en C...</td>\n",
       "      <td></td>\n",
       "    </tr>\n",
       "    <tr>\n",
       "      <td>4</td>\n",
       "      <td>1224106619061055488</td>\n",
       "      <td>Esto sí es una \"obra\" pero no artística. Esto ...</td>\n",
       "      <td></td>\n",
       "    </tr>\n",
       "    <tr>\n",
       "      <td>...</td>\n",
       "      <td>...</td>\n",
       "      <td>...</td>\n",
       "      <td>...</td>\n",
       "    </tr>\n",
       "    <tr>\n",
       "      <td>2857</td>\n",
       "      <td>1222678352328261633</td>\n",
       "      <td>En #México, 200 mujeres están en prisión por a...</td>\n",
       "      <td></td>\n",
       "    </tr>\n",
       "    <tr>\n",
       "      <td>2858</td>\n",
       "      <td>1222677476490514432</td>\n",
       "      <td>DesdeCDMX les apoyamos porque #MexicoEsProvida...</td>\n",
       "      <td></td>\n",
       "    </tr>\n",
       "    <tr>\n",
       "      <td>2859</td>\n",
       "      <td>1222676274474299392</td>\n",
       "      <td>La sana práctica que aterra a los abortistas.....</td>\n",
       "      <td></td>\n",
       "    </tr>\n",
       "    <tr>\n",
       "      <td>2860</td>\n",
       "      <td>1222664128453578752</td>\n",
       "      <td>“Mi #PañueloVerde no obliga a #abortar, pero t...</td>\n",
       "      <td></td>\n",
       "    </tr>\n",
       "    <tr>\n",
       "      <td>2861</td>\n",
       "      <td>1222664065429929984</td>\n",
       "      <td>Frases educativas sobre #FamiliayVida de #FUNB...</td>\n",
       "      <td></td>\n",
       "    </tr>\n",
       "  </tbody>\n",
       "</table>\n",
       "<p>2862 rows × 3 columns</p>\n",
       "</div>"
      ],
      "text/plain": [
       "                       id                                              Tweet  \\\n",
       "0     1224118352148385793  Hace 15 años, la @CampAbortoLegal genera lazos...   \n",
       "1     1224118330950344706  En 2019 el estado mexicano de Oaxaca y el aust...   \n",
       "2     1224114750428274690  También en #Jujuy \\nEl proyecto está en las ca...   \n",
       "3     1224110020062740482  El 19 de Febrero volvemos a las calles, y en C...   \n",
       "4     1224106619061055488  Esto sí es una \"obra\" pero no artística. Esto ...   \n",
       "...                   ...                                                ...   \n",
       "2857  1222678352328261633  En #México, 200 mujeres están en prisión por a...   \n",
       "2858  1222677476490514432  DesdeCDMX les apoyamos porque #MexicoEsProvida...   \n",
       "2859  1222676274474299392  La sana práctica que aterra a los abortistas.....   \n",
       "2860  1222664128453578752  “Mi #PañueloVerde no obliga a #abortar, pero t...   \n",
       "2861  1222664065429929984  Frases educativas sobre #FamiliayVida de #FUNB...   \n",
       "\n",
       "     Stance  \n",
       "0            \n",
       "1            \n",
       "2            \n",
       "3            \n",
       "4            \n",
       "...     ...  \n",
       "2857         \n",
       "2858         \n",
       "2859         \n",
       "2860         \n",
       "2861         \n",
       "\n",
       "[2862 rows x 3 columns]"
      ]
     },
     "execution_count": 83,
     "metadata": {},
     "output_type": "execute_result"
    }
   ],
   "source": [
    "data"
   ]
  },
  {
   "cell_type": "code",
   "execution_count": 84,
   "metadata": {},
   "outputs": [],
   "source": [
    "#hts = cd.getHashtags(data['Tweet'][8])\n",
    "for i,row in data.iterrows():\n",
    "    hts = [removeAccents(i) for i in cd.getHashtags(row.Tweet)]\n",
    "    if set(hts).intersection(communities_dict[0]) and set(hts).intersection(communities_dict[1]):\n",
    "        data.loc[i,'Stance'] = -1\n",
    "\n",
    "    elif set(hts).intersection(communities_dict[0]):\n",
    "        data.loc[i,'Stance'] = 0\n",
    "\n",
    "    elif set(hts).intersection(communities_dict[1]):\n",
    "        data.loc[i,'Stance'] = 1"
   ]
  },
  {
   "cell_type": "code",
   "execution_count": 85,
   "metadata": {},
   "outputs": [
    {
     "data": {
      "text/html": [
       "<div>\n",
       "<style scoped>\n",
       "    .dataframe tbody tr th:only-of-type {\n",
       "        vertical-align: middle;\n",
       "    }\n",
       "\n",
       "    .dataframe tbody tr th {\n",
       "        vertical-align: top;\n",
       "    }\n",
       "\n",
       "    .dataframe thead th {\n",
       "        text-align: right;\n",
       "    }\n",
       "</style>\n",
       "<table border=\"1\" class=\"dataframe\">\n",
       "  <thead>\n",
       "    <tr style=\"text-align: right;\">\n",
       "      <th></th>\n",
       "      <th>id</th>\n",
       "      <th>Tweet</th>\n",
       "      <th>Stance</th>\n",
       "    </tr>\n",
       "  </thead>\n",
       "  <tbody>\n",
       "    <tr>\n",
       "      <td>4</td>\n",
       "      <td>1224106619061055488</td>\n",
       "      <td>Esto sí es una \"obra\" pero no artística. Esto ...</td>\n",
       "      <td>1</td>\n",
       "    </tr>\n",
       "    <tr>\n",
       "      <td>6</td>\n",
       "      <td>1224103105664561152</td>\n",
       "      <td>\"Tremendo testimonio de Rebecca Kiessling quie...</td>\n",
       "      <td>1</td>\n",
       "    </tr>\n",
       "    <tr>\n",
       "      <td>10</td>\n",
       "      <td>1224098268172472320</td>\n",
       "      <td>El último videoclip de #Ricky_Martin muestra u...</td>\n",
       "      <td>1</td>\n",
       "    </tr>\n",
       "    <tr>\n",
       "      <td>11</td>\n",
       "      <td>1224095313410965504</td>\n",
       "      <td>Claro q si!!!!! Todas las vidas tienen un prop...</td>\n",
       "      <td>1</td>\n",
       "    </tr>\n",
       "    <tr>\n",
       "      <td>12</td>\n",
       "      <td>1224080863794618370</td>\n",
       "      <td>La vida humana se respeta\\n#NoAlCodigoOlga\\n#N...</td>\n",
       "      <td>1</td>\n",
       "    </tr>\n",
       "    <tr>\n",
       "      <td>...</td>\n",
       "      <td>...</td>\n",
       "      <td>...</td>\n",
       "      <td>...</td>\n",
       "    </tr>\n",
       "    <tr>\n",
       "      <td>2854</td>\n",
       "      <td>1222690226864381952</td>\n",
       "      <td>No hay humanidad en un asesinato. \\n#SiALaVida...</td>\n",
       "      <td>1</td>\n",
       "    </tr>\n",
       "    <tr>\n",
       "      <td>2856</td>\n",
       "      <td>1222682305447198721</td>\n",
       "      <td>A esto llaman “Derecho”. Quiénes hacen esto so...</td>\n",
       "      <td>1</td>\n",
       "    </tr>\n",
       "    <tr>\n",
       "      <td>2858</td>\n",
       "      <td>1222677476490514432</td>\n",
       "      <td>DesdeCDMX les apoyamos porque #MexicoEsProvida...</td>\n",
       "      <td>1</td>\n",
       "    </tr>\n",
       "    <tr>\n",
       "      <td>2859</td>\n",
       "      <td>1222676274474299392</td>\n",
       "      <td>La sana práctica que aterra a los abortistas.....</td>\n",
       "      <td>1</td>\n",
       "    </tr>\n",
       "    <tr>\n",
       "      <td>2861</td>\n",
       "      <td>1222664065429929984</td>\n",
       "      <td>Frases educativas sobre #FamiliayVida de #FUNB...</td>\n",
       "      <td>1</td>\n",
       "    </tr>\n",
       "  </tbody>\n",
       "</table>\n",
       "<p>1723 rows × 3 columns</p>\n",
       "</div>"
      ],
      "text/plain": [
       "                       id                                              Tweet  \\\n",
       "4     1224106619061055488  Esto sí es una \"obra\" pero no artística. Esto ...   \n",
       "6     1224103105664561152  \"Tremendo testimonio de Rebecca Kiessling quie...   \n",
       "10    1224098268172472320  El último videoclip de #Ricky_Martin muestra u...   \n",
       "11    1224095313410965504  Claro q si!!!!! Todas las vidas tienen un prop...   \n",
       "12    1224080863794618370  La vida humana se respeta\\n#NoAlCodigoOlga\\n#N...   \n",
       "...                   ...                                                ...   \n",
       "2854  1222690226864381952  No hay humanidad en un asesinato. \\n#SiALaVida...   \n",
       "2856  1222682305447198721  A esto llaman “Derecho”. Quiénes hacen esto so...   \n",
       "2858  1222677476490514432  DesdeCDMX les apoyamos porque #MexicoEsProvida...   \n",
       "2859  1222676274474299392  La sana práctica que aterra a los abortistas.....   \n",
       "2861  1222664065429929984  Frases educativas sobre #FamiliayVida de #FUNB...   \n",
       "\n",
       "      Stance  \n",
       "4          1  \n",
       "6          1  \n",
       "10         1  \n",
       "11         1  \n",
       "12         1  \n",
       "...      ...  \n",
       "2854       1  \n",
       "2856       1  \n",
       "2858       1  \n",
       "2859       1  \n",
       "2861       1  \n",
       "\n",
       "[1723 rows x 3 columns]"
      ]
     },
     "execution_count": 85,
     "metadata": {},
     "output_type": "execute_result"
    }
   ],
   "source": [
    "data.query('Stance == 1')"
   ]
  },
  {
   "cell_type": "code",
   "execution_count": 86,
   "metadata": {},
   "outputs": [
    {
     "data": {
      "text/html": [
       "<div>\n",
       "<style scoped>\n",
       "    .dataframe tbody tr th:only-of-type {\n",
       "        vertical-align: middle;\n",
       "    }\n",
       "\n",
       "    .dataframe tbody tr th {\n",
       "        vertical-align: top;\n",
       "    }\n",
       "\n",
       "    .dataframe thead th {\n",
       "        text-align: right;\n",
       "    }\n",
       "</style>\n",
       "<table border=\"1\" class=\"dataframe\">\n",
       "  <thead>\n",
       "    <tr style=\"text-align: right;\">\n",
       "      <th></th>\n",
       "      <th>id</th>\n",
       "      <th>Tweet</th>\n",
       "      <th>Stance</th>\n",
       "    </tr>\n",
       "  </thead>\n",
       "  <tbody>\n",
       "    <tr>\n",
       "      <td>0</td>\n",
       "      <td>1224118352148385793</td>\n",
       "      <td>Hace 15 años, la @CampAbortoLegal genera lazos...</td>\n",
       "      <td>0</td>\n",
       "    </tr>\n",
       "    <tr>\n",
       "      <td>1</td>\n",
       "      <td>1224118330950344706</td>\n",
       "      <td>En 2019 el estado mexicano de Oaxaca y el aust...</td>\n",
       "      <td>0</td>\n",
       "    </tr>\n",
       "    <tr>\n",
       "      <td>2</td>\n",
       "      <td>1224114750428274690</td>\n",
       "      <td>También en #Jujuy \\nEl proyecto está en las ca...</td>\n",
       "      <td>0</td>\n",
       "    </tr>\n",
       "    <tr>\n",
       "      <td>3</td>\n",
       "      <td>1224110020062740482</td>\n",
       "      <td>El 19 de Febrero volvemos a las calles, y en C...</td>\n",
       "      <td>0</td>\n",
       "    </tr>\n",
       "    <tr>\n",
       "      <td>5</td>\n",
       "      <td>1224105223536488449</td>\n",
       "      <td>Pasó una hora más, recuerden que #SonResponsab...</td>\n",
       "      <td>0</td>\n",
       "    </tr>\n",
       "    <tr>\n",
       "      <td>...</td>\n",
       "      <td>...</td>\n",
       "      <td>...</td>\n",
       "      <td>...</td>\n",
       "    </tr>\n",
       "    <tr>\n",
       "      <td>2847</td>\n",
       "      <td>1222700966778150912</td>\n",
       "      <td>Por si lo habían olvidado, durante esta hora s...</td>\n",
       "      <td>0</td>\n",
       "    </tr>\n",
       "    <tr>\n",
       "      <td>2852</td>\n",
       "      <td>1222693602469601286</td>\n",
       "      <td>Mi hija se fue a NOA de vacaciones. Dentro de ...</td>\n",
       "      <td>0</td>\n",
       "    </tr>\n",
       "    <tr>\n",
       "      <td>2855</td>\n",
       "      <td>1222688271542771712</td>\n",
       "      <td>ILE hay una sola y #SeráLey</td>\n",
       "      <td>0</td>\n",
       "    </tr>\n",
       "    <tr>\n",
       "      <td>2857</td>\n",
       "      <td>1222678352328261633</td>\n",
       "      <td>En #México, 200 mujeres están en prisión por a...</td>\n",
       "      <td>0</td>\n",
       "    </tr>\n",
       "    <tr>\n",
       "      <td>2860</td>\n",
       "      <td>1222664128453578752</td>\n",
       "      <td>“Mi #PañueloVerde no obliga a #abortar, pero t...</td>\n",
       "      <td>0</td>\n",
       "    </tr>\n",
       "  </tbody>\n",
       "</table>\n",
       "<p>1133 rows × 3 columns</p>\n",
       "</div>"
      ],
      "text/plain": [
       "                       id                                              Tweet  \\\n",
       "0     1224118352148385793  Hace 15 años, la @CampAbortoLegal genera lazos...   \n",
       "1     1224118330950344706  En 2019 el estado mexicano de Oaxaca y el aust...   \n",
       "2     1224114750428274690  También en #Jujuy \\nEl proyecto está en las ca...   \n",
       "3     1224110020062740482  El 19 de Febrero volvemos a las calles, y en C...   \n",
       "5     1224105223536488449  Pasó una hora más, recuerden que #SonResponsab...   \n",
       "...                   ...                                                ...   \n",
       "2847  1222700966778150912  Por si lo habían olvidado, durante esta hora s...   \n",
       "2852  1222693602469601286  Mi hija se fue a NOA de vacaciones. Dentro de ...   \n",
       "2855  1222688271542771712                        ILE hay una sola y #SeráLey   \n",
       "2857  1222678352328261633  En #México, 200 mujeres están en prisión por a...   \n",
       "2860  1222664128453578752  “Mi #PañueloVerde no obliga a #abortar, pero t...   \n",
       "\n",
       "      Stance  \n",
       "0          0  \n",
       "1          0  \n",
       "2          0  \n",
       "3          0  \n",
       "5          0  \n",
       "...      ...  \n",
       "2847       0  \n",
       "2852       0  \n",
       "2855       0  \n",
       "2857       0  \n",
       "2860       0  \n",
       "\n",
       "[1133 rows x 3 columns]"
      ]
     },
     "execution_count": 86,
     "metadata": {},
     "output_type": "execute_result"
    }
   ],
   "source": [
    "data.query('Stance == 0')"
   ]
  },
  {
   "cell_type": "code",
   "execution_count": 88,
   "metadata": {},
   "outputs": [
    {
     "data": {
      "text/html": [
       "<div>\n",
       "<style scoped>\n",
       "    .dataframe tbody tr th:only-of-type {\n",
       "        vertical-align: middle;\n",
       "    }\n",
       "\n",
       "    .dataframe tbody tr th {\n",
       "        vertical-align: top;\n",
       "    }\n",
       "\n",
       "    .dataframe thead th {\n",
       "        text-align: right;\n",
       "    }\n",
       "</style>\n",
       "<table border=\"1\" class=\"dataframe\">\n",
       "  <thead>\n",
       "    <tr style=\"text-align: right;\">\n",
       "      <th></th>\n",
       "      <th>id</th>\n",
       "      <th>Tweet</th>\n",
       "      <th>Stance</th>\n",
       "    </tr>\n",
       "  </thead>\n",
       "  <tbody>\n",
       "    <tr>\n",
       "      <td>519</td>\n",
       "      <td>1226097374914850817</td>\n",
       "      <td>#Son30000 #NoSon30000 #AbortoLegal #NoAlAborto...</td>\n",
       "      <td>-1</td>\n",
       "    </tr>\n",
       "    <tr>\n",
       "      <td>728</td>\n",
       "      <td>1219642847336521730</td>\n",
       "      <td>#Ahora El ginecólogo Leandro Rodríguez Lastra ...</td>\n",
       "      <td>-1</td>\n",
       "    </tr>\n",
       "    <tr>\n",
       "      <td>1481</td>\n",
       "      <td>1232715499995324417</td>\n",
       "      <td>@fraynelson @Pontifex_es @fray_foto @fraychamo...</td>\n",
       "      <td>-1</td>\n",
       "    </tr>\n",
       "    <tr>\n",
       "      <td>1499</td>\n",
       "      <td>1232701918570405888</td>\n",
       "      <td>Aquí una verdadera feminista. Verdadera pacifi...</td>\n",
       "      <td>-1</td>\n",
       "    </tr>\n",
       "    <tr>\n",
       "      <td>1822</td>\n",
       "      <td>1233561761330204672</td>\n",
       "      <td>INEXACTO: No estudié medicina para quitar vida...</td>\n",
       "      <td>-1</td>\n",
       "    </tr>\n",
       "    <tr>\n",
       "      <td>2313</td>\n",
       "      <td>1229498318352506880</td>\n",
       "      <td>.@vox_es denuncia el negocio mundial del #abor...</td>\n",
       "      <td>-1</td>\n",
       "    </tr>\n",
       "  </tbody>\n",
       "</table>\n",
       "</div>"
      ],
      "text/plain": [
       "                       id                                              Tweet  \\\n",
       "519   1226097374914850817  #Son30000 #NoSon30000 #AbortoLegal #NoAlAborto...   \n",
       "728   1219642847336521730  #Ahora El ginecólogo Leandro Rodríguez Lastra ...   \n",
       "1481  1232715499995324417  @fraynelson @Pontifex_es @fray_foto @fraychamo...   \n",
       "1499  1232701918570405888  Aquí una verdadera feminista. Verdadera pacifi...   \n",
       "1822  1233561761330204672  INEXACTO: No estudié medicina para quitar vida...   \n",
       "2313  1229498318352506880  .@vox_es denuncia el negocio mundial del #abor...   \n",
       "\n",
       "      Stance  \n",
       "519       -1  \n",
       "728       -1  \n",
       "1481      -1  \n",
       "1499      -1  \n",
       "1822      -1  \n",
       "2313      -1  "
      ]
     },
     "execution_count": 88,
     "metadata": {},
     "output_type": "execute_result"
    }
   ],
   "source": [
    "data.query('Stance == -1')"
   ]
  },
  {
   "cell_type": "markdown",
   "metadata": {},
   "source": [
    "# Preprocessing"
   ]
  },
  {
   "cell_type": "code",
   "execution_count": 2,
   "metadata": {},
   "outputs": [],
   "source": [
    "data = pd.read_csv('./ABORTOLA/train_raw.csv')"
   ]
  },
  {
   "cell_type": "code",
   "execution_count": 89,
   "metadata": {},
   "outputs": [],
   "source": [
    "data = cd.cleanData(data, 'Tweet')"
   ]
  },
  {
   "cell_type": "code",
   "execution_count": 91,
   "metadata": {},
   "outputs": [],
   "source": [
    "data.to_csv('./ABORTOLA/train_raw.csv', index=False)"
   ]
  },
  {
   "cell_type": "code",
   "execution_count": 3,
   "metadata": {},
   "outputs": [],
   "source": [
    "data = cd.cleanData(data, 'Tweet', hashtags=True)"
   ]
  },
  {
   "cell_type": "code",
   "execution_count": 8,
   "metadata": {},
   "outputs": [],
   "source": [
    "data.to_csv('./ABORTOLA/train_NH.csv', index=False)"
   ]
  },
  {
   "cell_type": "code",
   "execution_count": 9,
   "metadata": {},
   "outputs": [],
   "source": [
    "data = cd.cleanData(data, 'Tweet', hashtags=True, urls='URL', users='USER')"
   ]
  },
  {
   "cell_type": "code",
   "execution_count": 17,
   "metadata": {},
   "outputs": [],
   "source": [
    "data.to_csv('./ABORTOLA/train_NH_USER_URL.csv', index=False)"
   ]
  },
  {
   "cell_type": "code",
   "execution_count": null,
   "metadata": {},
   "outputs": [],
   "source": []
  }
 ],
 "metadata": {
  "kernelspec": {
   "display_name": "Python 3",
   "language": "python",
   "name": "python3"
  },
  "language_info": {
   "codemirror_mode": {
    "name": "ipython",
    "version": 3
   },
   "file_extension": ".py",
   "mimetype": "text/x-python",
   "name": "python",
   "nbconvert_exporter": "python",
   "pygments_lexer": "ipython3",
   "version": "3.7.4"
  }
 },
 "nbformat": 4,
 "nbformat_minor": 4
}
